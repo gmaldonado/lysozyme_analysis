{
 "cells": [
  {
   "cell_type": "markdown",
   "metadata": {},
   "source": [
    "# Predicting proteins stability using Amino Acid Sequence Auto-correlation vectors (AASA) and Machine Learning"
   ]
  },
  {
   "cell_type": "code",
   "execution_count": null,
   "metadata": {},
   "outputs": [],
   "source": [
    "from utils import read_dataset\n",
    "from sklearn.model_selection import train_test_split\n",
    "from sklearn.preprocessing import MinMaxScaler\n",
    "from sklearn.metrics import classification_report,confusion_matrix,f1_score\n",
    "from sklearn.svm import SVC\n",
    "from sklearn.linear_model import LogisticRegression\n",
    "from sklearn.neighbors import KNeighborsClassifier\n",
    "from sklearn.tree import DecisionTreeClassifier\n",
    "from sklearn.neural_network import MLPClassifier\n",
    "from models.constant import *\n",
    "from models.model import Model\n",
    "import pandas as pd\n",
    "import numpy as np"
   ]
  },
  {
   "cell_type": "markdown",
   "metadata": {},
   "source": [
    "## Reading data\n",
    "Here we are reading the data and running the discretization process"
   ]
  },
  {
   "cell_type": "code",
   "execution_count": 5,
   "metadata": {},
   "outputs": [],
   "source": [
    "dataset = read_dataset(\"../data/aasa.xlsx\", \"1BPI\")\n",
    "X = dataset.drop(columns=TARGET_COLUMN)\n",
    "Y = dataset[TARGET_COLUMN].apply(lambda x: 1 if x>=0 else 0)"
   ]
  },
  {
   "cell_type": "markdown",
   "metadata": {},
   "source": [
    "## Data processing\n",
    "Here the data is being split into train and test set. Also we're running the normalization"
   ]
  },
  {
   "cell_type": "code",
   "execution_count": 6,
   "metadata": {},
   "outputs": [],
   "source": [
    "X_train, X_test, y_train, y_test = train_test_split(X, Y, test_size=0.15, random_state=41,stratify=Y)"
   ]
  },
  {
   "cell_type": "code",
   "execution_count": 8,
   "metadata": {},
   "outputs": [],
   "source": [
    "scaler = MinMaxScaler()\n",
    "scaled_train_set = scaler.fit_transform(X_train)\n",
    "X_train = pd.DataFrame(scaled_train_set,columns=X_train.columns)\n",
    "\n",
    "scaled_test_set = scaler.transform(X_test)\n",
    "X_test = pd.DataFrame(scaled_test_set,columns=X_test.columns)"
   ]
  },
  {
   "cell_type": "markdown",
   "metadata": {},
   "source": [
    "## Models definition with its parameters to find the best model"
   ]
  },
  {
   "cell_type": "code",
   "execution_count": 9,
   "metadata": {},
   "outputs": [],
   "source": [
    "svm = Model(SVM,SVC(probability=True),{'C': [0.1,1, 10, 100], 'gamma': [1,0.1,0.01,0.001],'kernel': ['rbf', 'poly', 'sigmoid']})\n",
    "logistic_regression = Model(LOGISTIC_REGRESSION,LogisticRegression(),{'C': np.logspace(-4, 4, 20), \"penalty\":[\"l1\",\"l2\"],\"solver\":[\"liblinear\"]})\n",
    "knn = Model(KNN,KNeighborsClassifier(),{\"n_neighbors\": np.arange(1,25)})\n",
    "tree = Model(DECISION_TREE,DecisionTreeClassifier(),{'max_leaf_nodes': list(range(2, 100)), 'min_samples_split': [2, 3, 4]})\n",
    "mlp = Model(MLP,MLPClassifier(),{'alpha': 10.0 ** -np.arange(1,3), 'hidden_layer_sizes':(5,2), 'random_state':[1]})"
   ]
  },
  {
   "cell_type": "markdown",
   "metadata": {},
   "source": [
    "## Models execution\n",
    "Here we are running each of the selected models ins 'models_to_execute' variable. A classification report is being generated at the same time with the ROC curve chart"
   ]
  },
  {
   "cell_type": "code",
   "execution_count": 12,
   "metadata": {},
   "outputs": [
    {
     "name": "stdout",
     "output_type": "stream",
     "text": [
      "[[7 0]\n",
      " [1 0]]\n",
      "              precision    recall  f1-score   support\n",
      "\n",
      "           0       0.88      1.00      0.93         7\n",
      "           1       0.00      0.00      0.00         1\n",
      "\n",
      "    accuracy                           0.88         8\n",
      "   macro avg       0.44      0.50      0.47         8\n",
      "weighted avg       0.77      0.88      0.82         8\n",
      "\n"
     ]
    },
    {
     "name": "stderr",
     "output_type": "stream",
     "text": [
      "/Users/gmaldonado/Library/Python/3.6/lib/python/site-packages/sklearn/metrics/_classification.py:1221: UndefinedMetricWarning: Precision and F-score are ill-defined and being set to 0.0 in labels with no predicted samples. Use `zero_division` parameter to control this behavior.\n",
      "  _warn_prf(average, modifier, msg_start, len(result))\n"
     ]
    },
    {
     "data": {
      "image/png": "[encoded data removed]",
      "text/plain": [
       "<Figure size 432x288 with 1 Axes>"
      ]
     },
     "metadata": {
      "needs_background": "light"
     },
     "output_type": "display_data"
    }
   ],
   "source": [
    "models_to_execute = [svm]\n",
    "\n",
    "for model in models_to_execute:\n",
    "  model.train(X_train,y_train)\n",
    "  predictions = model.predict(X_test)\n",
    "  print(confusion_matrix(y_test,predictions))\n",
    "  print(classification_report(y_test,predictions))\n",
    "  model.draw_roc_curve(X_test, y_test)"
   ]
  }
 ],
 "metadata": {
  "kernelspec": {
   "display_name": "Python 3",
   "language": "python",
   "name": "python3"
  },
  "language_info": {
   "codemirror_mode": {
    "name": "ipython",
    "version": 3
   },
   "file_extension": ".py",
   "mimetype": "text/x-python",
   "name": "python",
   "nbconvert_exporter": "python",
   "pygments_lexer": "ipython3",
   "version": "3.6.5"
  }
 },
 "nbformat": 4,
 "nbformat_minor": 1
}
